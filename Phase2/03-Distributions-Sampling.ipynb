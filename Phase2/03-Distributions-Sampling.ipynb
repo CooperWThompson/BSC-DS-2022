{
 "cells": [
  {
   "cell_type": "markdown",
   "metadata": {},
   "source": [
    "# Distributions and Sampling"
   ]
  },
  {
   "cell_type": "markdown",
   "metadata": {
    "heading_collapsed": true
   },
   "source": [
    "## Objectives"
   ]
  },
  {
   "cell_type": "markdown",
   "metadata": {
    "hidden": true
   },
   "source": [
    "* Explain how sampling is related to an underlying population\n",
    "* Describe the difference between discrete and continuous random variables\n",
    "* Describe the difference between PMFs, PDFs, and CDFs"
   ]
  },
  {
   "cell_type": "markdown",
   "metadata": {
    "heading_collapsed": true
   },
   "source": [
    "# First Up: Sampling"
   ]
  },
  {
   "cell_type": "markdown",
   "metadata": {
    "hidden": true
   },
   "source": [
    "Before we get into our main topic of probability distributions, it'll help to first understand the concept of **sampling**."
   ]
  },
  {
   "cell_type": "markdown",
   "metadata": {
    "heading_collapsed": true,
    "hidden": true
   },
   "source": [
    "## Our View of The World Isn't Perfect"
   ]
  },
  {
   "cell_type": "markdown",
   "metadata": {
    "hidden": true
   },
   "source": [
    "We don't have _perfect_ information; life doesn't have an answer key.\n",
    "\n",
    "Ideally, we want to have all the details of a whole group. But as you can guess, that's not always feasible."
   ]
  },
  {
   "cell_type": "markdown",
   "metadata": {
    "hidden": true
   },
   "source": [
    "**🧠  What are some reasons we sometimes _can't_ observe the whole group?**\n",
    "<details>\n",
    "<ul>\n",
    "    <li>Expensive</li>\n",
    "    <li>Unrealistic</li>\n",
    "    <li>We don't need it to gain insights!</li>\n",
    "</ul>\n",
    "</details>"
   ]
  },
  {
   "cell_type": "markdown",
   "metadata": {
    "heading_collapsed": true,
    "hidden": true
   },
   "source": [
    "## Solutions?"
   ]
  },
  {
   "cell_type": "markdown",
   "metadata": {
    "hidden": true
   },
   "source": [
    "Let's use an example scenario to think about how we can approach this. Let's say we would like to know the ages of students at Flatiron School. \n",
    "\n",
    "Picture what this might look like. How would you describe the population of students' ages?"
   ]
  },
  {
   "cell_type": "markdown",
   "metadata": {
    "hidden": true
   },
   "source": [
    "> **Key Terms**\n",
    ">\n",
    "> We define the **population** as the whole group we're interested in. We abstract this to the population being the whole set of _possible outcomes_.\n",
    "> \n",
    "> And when we \"pick\" a student (or students), we say we have (randomly) _sampled_ over the population. We call this subset of \"picked\" individuals/outcomes from the population a **sample**."
   ]
  },
  {
   "cell_type": "markdown",
   "metadata": {
    "hidden": true
   },
   "source": [
    "Well, if we knew what the **population** (all the Flatiron students) looked like, we could probably get an idea of what the likely age is of a _randomly_ picked one from the population."
   ]
  },
  {
   "cell_type": "markdown",
   "metadata": {
    "hidden": true
   },
   "source": [
    "We can describe the \"look\" of the population a **probability distribution**. "
   ]
  },
  {
   "cell_type": "markdown",
   "metadata": {
    "hidden": true
   },
   "source": [
    "> **Key Terms**\n",
    "> \n",
    "> A **probability distribution** is a representation of the frequencies of potential outcomes or the percentage of time each outcome occurs."
   ]
  },
  {
   "cell_type": "markdown",
   "metadata": {
    "hidden": true
   },
   "source": [
    "There are a few ways to get the probability distribution, even if it's only approximate."
   ]
  },
  {
   "cell_type": "markdown",
   "metadata": {
    "heading_collapsed": true,
    "hidden": true
   },
   "source": [
    "### Observe the Whole Population"
   ]
  },
  {
   "cell_type": "markdown",
   "metadata": {
    "hidden": true
   },
   "source": [
    "This might seem like \"cheating\" but sometimes this is really the best way even if it's \"expensive\" (monetarily, time, or otherwise). Sometimes this has already been done for us and we can use those results. It's important to note that sometimes the information is outdated but we can use it as approximately right. (Think how the US Census is done only every 10 years.)"
   ]
  },
  {
   "cell_type": "markdown",
   "metadata": {
    "hidden": true
   },
   "source": [
    "So in our example, we could have a _distribution_ of ages of our population. Let's say of all students were asked their age when enrolling:\n",
    "\n",
    "- $15\\%$ are under the age of $25$\n",
    "- $30\\%$ are between $25$ & $30$\n",
    "- $25\\%$ are between $30$ & $35$\n",
    "- $20\\%$ are between $35$ & $40$\n",
    "- $10\\%$ are over the age of $40$"
   ]
  },
  {
   "cell_type": "markdown",
   "metadata": {
    "heading_collapsed": true,
    "hidden": true
   },
   "source": [
    "### We Sample and Infer the Population's Distribution "
   ]
  },
  {
   "cell_type": "markdown",
   "metadata": {
    "hidden": true
   },
   "source": [
    "Another method is to sample the population (usually randomly) and observe what the sample's distribution looks like. We can then infer what the population might look like."
   ]
  },
  {
   "cell_type": "markdown",
   "metadata": {
    "hidden": true
   },
   "source": [
    "Suppose we ask 100 random students their ages and observe the following:\n",
    "\n",
    "- $10$ are under the age of $25$\n",
    "- $30$ are between $25$ & $30$\n",
    "- $30$ are between $30$ & $35$\n",
    "- $15$ are between $35$ & $40$\n",
    "- $15$ are over the age of $40$\n",
    "\n",
    "Then we can guess that our population is similar to this distribution."
   ]
  },
  {
   "cell_type": "markdown",
   "metadata": {
    "hidden": true
   },
   "source": [
    "How similar? Well, that can be a tough question and is part of _inferential statistics_ where we make predictions based on our observations/data.  We'll  be going into more detail about this in the near future."
   ]
  },
  {
   "cell_type": "markdown",
   "metadata": {},
   "source": [
    "## Sampling & Point Estimates "
   ]
  },
  {
   "cell_type": "markdown",
   "metadata": {},
   "source": [
    "> The sample statistic is calculated from the sample data and the population parameter is inferred (or estimated) from this sample statistic. Let me say that again: Statistics are calculated, parameters are estimated. - James Jones"
   ]
  },
  {
   "cell_type": "markdown",
   "metadata": {},
   "source": [
    "**Know the differences - Population v Sample Terminology**\n",
    "\n",
    "Characteristics of populations are called *parameters*<br/>\n",
    "Characteristics of a sample are called *statistics*\n",
    "\n",
    "<img src=\"https://media.cheggcdn.com/media/7ac/7ac1a812-3b41-4873-8413-b6a7b8fab530/CL-26481V_image_006.png\" width=700>\n",
    "\n",
    "Let's work through an example to understand this topic better. We grabbed wage and classification information for 11,754 City of Seattle Employees (as of May 2022).\n",
    "\n",
    "Details: https://data.seattle.gov/City-Business/City-of-Seattle-Wage-Data/2khk-5ukd"
   ]
  },
  {
   "cell_type": "code",
   "execution_count": 26,
   "metadata": {
    "ExecuteTime": {
     "end_time": "2021-10-08T20:59:55.423713Z",
     "start_time": "2021-10-08T20:59:53.995917Z"
    }
   },
   "outputs": [],
   "source": [
    "# Initial imports \n",
    "import pandas as pd\n",
    "import numpy as np\n",
    "\n",
    "from scipy import stats\n",
    "\n",
    "from matplotlib import pyplot as plt\n",
    "import seaborn as sns"
   ]
  },
  {
   "cell_type": "code",
   "execution_count": 27,
   "metadata": {},
   "outputs": [
    {
     "data": {
      "text/html": [
       "<div>\n",
       "<style scoped>\n",
       "    .dataframe tbody tr th:only-of-type {\n",
       "        vertical-align: middle;\n",
       "    }\n",
       "\n",
       "    .dataframe tbody tr th {\n",
       "        vertical-align: top;\n",
       "    }\n",
       "\n",
       "    .dataframe thead th {\n",
       "        text-align: right;\n",
       "    }\n",
       "</style>\n",
       "<table border=\"1\" class=\"dataframe\">\n",
       "  <thead>\n",
       "    <tr style=\"text-align: right;\">\n",
       "      <th></th>\n",
       "      <th>Department</th>\n",
       "      <th>Last Name</th>\n",
       "      <th>First Name</th>\n",
       "      <th>Job Title</th>\n",
       "      <th>Hourly Rate</th>\n",
       "    </tr>\n",
       "  </thead>\n",
       "  <tbody>\n",
       "    <tr>\n",
       "      <th>0</th>\n",
       "      <td>Seattle Public Utilities</td>\n",
       "      <td>Platin Jr</td>\n",
       "      <td>Fernando</td>\n",
       "      <td>Civil Engr,Sr</td>\n",
       "      <td>67.490</td>\n",
       "    </tr>\n",
       "    <tr>\n",
       "      <th>1</th>\n",
       "      <td>Seattle Public Utilities</td>\n",
       "      <td>Corriveau</td>\n",
       "      <td>Jon</td>\n",
       "      <td>Wtr Treatment Op,Sr</td>\n",
       "      <td>38.760</td>\n",
       "    </tr>\n",
       "    <tr>\n",
       "      <th>2</th>\n",
       "      <td>Seattle Dept of Transportation</td>\n",
       "      <td>Stegner</td>\n",
       "      <td>Timothy</td>\n",
       "      <td>Civil Engrng Spec,Assoc</td>\n",
       "      <td>51.320</td>\n",
       "    </tr>\n",
       "    <tr>\n",
       "      <th>3</th>\n",
       "      <td>Parks &amp; Recreation</td>\n",
       "      <td>Ng</td>\n",
       "      <td>Jordan</td>\n",
       "      <td>Info Technol Prof B-BU</td>\n",
       "      <td>56.650</td>\n",
       "    </tr>\n",
       "    <tr>\n",
       "      <th>4</th>\n",
       "      <td>Information Technology</td>\n",
       "      <td>Miller</td>\n",
       "      <td>Matthew</td>\n",
       "      <td>Info Technol Prof B-BU</td>\n",
       "      <td>59.353</td>\n",
       "    </tr>\n",
       "  </tbody>\n",
       "</table>\n",
       "</div>"
      ],
      "text/plain": [
       "                       Department  Last Name First Name  \\\n",
       "0        Seattle Public Utilities  Platin Jr   Fernando   \n",
       "1        Seattle Public Utilities  Corriveau        Jon   \n",
       "2  Seattle Dept of Transportation    Stegner    Timothy   \n",
       "3              Parks & Recreation         Ng     Jordan   \n",
       "4          Information Technology     Miller    Matthew   \n",
       "\n",
       "                 Job Title  Hourly Rate   \n",
       "0            Civil Engr,Sr        67.490  \n",
       "1      Wtr Treatment Op,Sr        38.760  \n",
       "2  Civil Engrng Spec,Assoc        51.320  \n",
       "3   Info Technol Prof B-BU        56.650  \n",
       "4   Info Technol Prof B-BU        59.353  "
      ]
     },
     "execution_count": 27,
     "metadata": {},
     "output_type": "execute_result"
    }
   ],
   "source": [
    "# Grab our data\n",
    "df = pd.read_csv('data/City_of_Seattle_Wage_Data_050222.csv')\n",
    "df.head()"
   ]
  },
  {
   "cell_type": "code",
   "execution_count": 28,
   "metadata": {},
   "outputs": [
    {
     "data": {
      "text/plain": [
       "Index(['Department', 'Last Name', 'First Name', 'Job Title', 'Hourly Rate '], dtype='object')"
      ]
     },
     "execution_count": 28,
     "metadata": {},
     "output_type": "execute_result"
    }
   ],
   "source": [
    "# Thing to note - the column name 'Hourly Rate ' has a space at the end\n",
    "df.columns"
   ]
  },
  {
   "cell_type": "code",
   "execution_count": 29,
   "metadata": {
    "scrolled": true
   },
   "outputs": [
    {
     "data": {
      "text/plain": [
       "['Department', 'LastName', 'FirstName', 'JobTitle', 'HourlyRate']"
      ]
     },
     "execution_count": 29,
     "metadata": {},
     "output_type": "execute_result"
    }
   ],
   "source": [
    "[c.replace(\" \", \"\") for c in df.columns]"
   ]
  },
  {
   "cell_type": "code",
   "execution_count": 30,
   "metadata": {},
   "outputs": [],
   "source": [
    "# So let's rename the columns\n",
    "df = df.rename(columns = dict(zip(df.columns, [c.replace(\" \", \"\") for c in df.columns])))"
   ]
  },
  {
   "cell_type": "code",
   "execution_count": 31,
   "metadata": {},
   "outputs": [
    {
     "data": {
      "text/html": [
       "<div>\n",
       "<style scoped>\n",
       "    .dataframe tbody tr th:only-of-type {\n",
       "        vertical-align: middle;\n",
       "    }\n",
       "\n",
       "    .dataframe tbody tr th {\n",
       "        vertical-align: top;\n",
       "    }\n",
       "\n",
       "    .dataframe thead th {\n",
       "        text-align: right;\n",
       "    }\n",
       "</style>\n",
       "<table border=\"1\" class=\"dataframe\">\n",
       "  <thead>\n",
       "    <tr style=\"text-align: right;\">\n",
       "      <th></th>\n",
       "      <th>Department</th>\n",
       "      <th>LastName</th>\n",
       "      <th>FirstName</th>\n",
       "      <th>JobTitle</th>\n",
       "      <th>HourlyRate</th>\n",
       "    </tr>\n",
       "  </thead>\n",
       "  <tbody>\n",
       "    <tr>\n",
       "      <th>0</th>\n",
       "      <td>Seattle Public Utilities</td>\n",
       "      <td>Platin Jr</td>\n",
       "      <td>Fernando</td>\n",
       "      <td>Civil Engr,Sr</td>\n",
       "      <td>67.490</td>\n",
       "    </tr>\n",
       "    <tr>\n",
       "      <th>1</th>\n",
       "      <td>Seattle Public Utilities</td>\n",
       "      <td>Corriveau</td>\n",
       "      <td>Jon</td>\n",
       "      <td>Wtr Treatment Op,Sr</td>\n",
       "      <td>38.760</td>\n",
       "    </tr>\n",
       "    <tr>\n",
       "      <th>2</th>\n",
       "      <td>Seattle Dept of Transportation</td>\n",
       "      <td>Stegner</td>\n",
       "      <td>Timothy</td>\n",
       "      <td>Civil Engrng Spec,Assoc</td>\n",
       "      <td>51.320</td>\n",
       "    </tr>\n",
       "    <tr>\n",
       "      <th>3</th>\n",
       "      <td>Parks &amp; Recreation</td>\n",
       "      <td>Ng</td>\n",
       "      <td>Jordan</td>\n",
       "      <td>Info Technol Prof B-BU</td>\n",
       "      <td>56.650</td>\n",
       "    </tr>\n",
       "    <tr>\n",
       "      <th>4</th>\n",
       "      <td>Information Technology</td>\n",
       "      <td>Miller</td>\n",
       "      <td>Matthew</td>\n",
       "      <td>Info Technol Prof B-BU</td>\n",
       "      <td>59.353</td>\n",
       "    </tr>\n",
       "  </tbody>\n",
       "</table>\n",
       "</div>"
      ],
      "text/plain": [
       "                       Department   LastName FirstName  \\\n",
       "0        Seattle Public Utilities  Platin Jr  Fernando   \n",
       "1        Seattle Public Utilities  Corriveau       Jon   \n",
       "2  Seattle Dept of Transportation    Stegner   Timothy   \n",
       "3              Parks & Recreation         Ng    Jordan   \n",
       "4          Information Technology     Miller   Matthew   \n",
       "\n",
       "                  JobTitle  HourlyRate  \n",
       "0            Civil Engr,Sr      67.490  \n",
       "1      Wtr Treatment Op,Sr      38.760  \n",
       "2  Civil Engrng Spec,Assoc      51.320  \n",
       "3   Info Technol Prof B-BU      56.650  \n",
       "4   Info Technol Prof B-BU      59.353  "
      ]
     },
     "execution_count": 31,
     "metadata": {},
     "output_type": "execute_result"
    }
   ],
   "source": [
    "# Check our work\n",
    "df.head()"
   ]
  },
  {
   "cell_type": "markdown",
   "metadata": {},
   "source": [
    "What we'll do is grab a random sample, of 500 employees, and see how the sample statistics match up with our population parameters."
   ]
  },
  {
   "cell_type": "code",
   "execution_count": 32,
   "metadata": {},
   "outputs": [],
   "source": [
    "# gonna use the random library to add randomness\n",
    "import random\n",
    "\n",
    "# seed for reproducibility (not too random)\n",
    "random.seed(2021) "
   ]
  },
  {
   "cell_type": "code",
   "execution_count": 33,
   "metadata": {},
   "outputs": [],
   "source": [
    "# set our parameters\n",
    "sample_size = 500\n",
    "total_employees = len(df)"
   ]
  },
  {
   "cell_type": "code",
   "execution_count": 34,
   "metadata": {
    "ExecuteTime": {
     "end_time": "2020-07-28T23:02:36.009622Z",
     "start_time": "2020-07-28T23:00:43.249404Z"
    }
   },
   "outputs": [],
   "source": [
    "# Sample 500 random employees\n",
    "sample = df.sample(sample_size)"
   ]
  },
  {
   "cell_type": "code",
   "execution_count": 35,
   "metadata": {
    "ExecuteTime": {
     "end_time": "2020-07-28T23:06:38.133047Z",
     "start_time": "2020-07-28T23:06:37.967834Z"
    }
   },
   "outputs": [
    {
     "data": {
      "image/png": "[encoded data removed]",
      "text/plain": [
       "<Figure size 576x432 with 1 Axes>"
      ]
     },
     "metadata": {
      "needs_background": "light"
     },
     "output_type": "display_data"
    }
   ],
   "source": [
    "#Make a visualization that shows the distribution of hourly rate\n",
    "\n",
    "plt.figure(figsize=(8,6))\n",
    "\n",
    "sns.histplot(df['HourlyRate'], label='Full Dataset', stat='density', kde=True)\n",
    "sns.histplot(sample['HourlyRate'], label='Sample', stat='density', kde=True, color='orange', alpha=.5)\n",
    "\n",
    "plt.xlabel(\"Hourly Rate\")\n",
    "plt.ylabel(\"Frequency\")\n",
    "plt.title(\"Distribution of Hourly Rates Amongst Seattle City Employees\")\n",
    "plt.legend()\n",
    "plt.show()"
   ]
  },
  {
   "cell_type": "markdown",
   "metadata": {},
   "source": [
    "Another comparison: "
   ]
  },
  {
   "cell_type": "code",
   "execution_count": 36,
   "metadata": {},
   "outputs": [
    {
     "name": "stdout",
     "output_type": "stream",
     "text": [
      "Full Dataset:\n",
      "         HourlyRate\n",
      "count  11754.000000\n",
      "mean      47.779459\n",
      "std       16.850877\n",
      "min        5.530000\n",
      "25%       35.160000\n",
      "50%       47.000000\n",
      "75%       59.550000\n",
      "max      187.767000\n",
      "********************\n",
      "Sample:\n",
      "       HourlyRate\n",
      "count  500.000000\n",
      "mean    47.711172\n",
      "std     16.903904\n",
      "min     18.560000\n",
      "25%     35.460000\n",
      "50%     46.680000\n",
      "75%     58.729000\n",
      "max    124.440000\n"
     ]
    }
   ],
   "source": [
    "print(\"Full Dataset:\")\n",
    "print(df.describe())\n",
    "print(\"*\" * 20)\n",
    "print(\"Sample:\")\n",
    "print(sample.describe())"
   ]
  },
  {
   "cell_type": "markdown",
   "metadata": {},
   "source": [
    "So, how'd our sample do, in terms of representing our underlying population?\n",
    "\n",
    "- \n"
   ]
  },
  {
   "cell_type": "markdown",
   "metadata": {},
   "source": [
    "Now let's change that 500 to something smaller, like 5 or 10 - rerun the code, how does our sample do in that case?\n",
    "\n",
    "- \n"
   ]
  },
  {
   "cell_type": "markdown",
   "metadata": {
    "heading_collapsed": true,
    "hidden": true
   },
   "source": [
    "## Going Forward"
   ]
  },
  {
   "cell_type": "markdown",
   "metadata": {
    "hidden": true
   },
   "source": [
    "For the rest of the lecture, we're going to focus on how we can describe probability distributions. This will give us a tool set whether we're talking about a sample or an established population."
   ]
  },
  {
   "cell_type": "markdown",
   "metadata": {
    "hidden": true
   },
   "source": [
    "> **Aside - Use a Mathematical Model as a Proxy to the Population's Distribution**\n",
    "> \n",
    "> If we know what a population distribution _should_ look, we can mathematically  define a model that would fill-in for our population.\n",
    "> \n",
    "> This is analogous to something like using a perfect circle to approximate a car's tire. Is it exactly the same? No, there are some deviations from the circle but it's close enough for many applications.\n",
    "> \n",
    "> There are many other _parametric probability distributions_ which can be described mathematically and can be very convenient for us. We won't focus on this now, but know that is another use case of probability distributions."
   ]
  },
  {
   "cell_type": "markdown",
   "metadata": {
    "heading_collapsed": true
   },
   "source": [
    "# Probability Distributions"
   ]
  },
  {
   "cell_type": "markdown",
   "metadata": {
    "hidden": true
   },
   "source": [
    "We will learn about a variety of different probability distributions, but before we do so, we need to establish the difference between **discrete** and **continuous** distributions."
   ]
  },
  {
   "cell_type": "markdown",
   "metadata": {},
   "source": [
    "A fundamental distinction among kinds of distributions is the distinction between discrete and continuous distributions. \n",
    "\n",
    "A **discrete distribution** (or variable) takes on countable values, like integers, where every outcome has a positive probability.\n",
    "\n",
    "A **continuous distribution** takes on a continuum of values, like real numbers. It assigns probabilities to ranges of values (not any one single value)\n",
    "\n",
    "![](https://miro.medium.com/max/1022/1*7DwXV_h_t7_-TkLAImKBaQ.png)\n",
    "\n",
    "[More Explanation](https://mathbitsnotebook.com/Algebra1/FunctionGraphs/FNGContinuousDiscrete.html)"
   ]
  },
  {
   "cell_type": "markdown",
   "metadata": {
    "heading_collapsed": true,
    "hidden": true
   },
   "source": [
    "## Discrete Distributions"
   ]
  },
  {
   "cell_type": "markdown",
   "metadata": {
    "hidden": true
   },
   "source": [
    "With discrete distributions, you can only get certain specific values, not all values in a range.  Take, for example, a roll of a single six-sided die - there are 6 possible outcomes of the roll, and non-integer numbers between 1 and 6 are not possible results."
   ]
  },
  {
   "cell_type": "markdown",
   "metadata": {
    "heading_collapsed": true,
    "hidden": true
   },
   "source": [
    "### Examples of Discrete Distributions"
   ]
  },
  {
   "cell_type": "markdown",
   "metadata": {
    "hidden": true
   },
   "source": [
    "- **Uniform Distribution**\n",
    "    - Occurs when all possible outcomes are equally likely.\n",
    "    - e.g. rolling a six-sided die\n",
    "    \n",
    "- **Bernoulli Distribution**\n",
    "    - Represents the probability of success for a certain experiment (binary outcome).\n",
    "    - e.g. flipping a fair coin\n",
    "    \n",
    "- **Binomial Distribution**\n",
    "    - Represents the probability of observing a specific number of successes (Bernoulli trials) in a specific number of trials.\n",
    "    - e.g. number of defects found from a 100-random sample from the production line"
   ]
  },
  {
   "cell_type": "markdown",
   "metadata": {
    "heading_collapsed": true,
    "hidden": true
   },
   "source": [
    "## Continuous Distributions"
   ]
  },
  {
   "cell_type": "markdown",
   "metadata": {
    "hidden": true
   },
   "source": [
    "With a continuous distribution, you can expect to get any value within a range. Think about measuring the length of something. The reported measurement can always be more or less precise."
   ]
  },
  {
   "cell_type": "markdown",
   "metadata": {
    "heading_collapsed": true,
    "hidden": true
   },
   "source": [
    "### Examples of Continuous Distributions"
   ]
  },
  {
   "cell_type": "markdown",
   "metadata": {
    "hidden": true
   },
   "source": [
    "- **Continuous Uniform**\n",
    "    - A continuous distribution that takes values within a specified range *a* to *b*, when each value within the range is equally likely.\n",
    "    - e.g. time take an elevator arrive at your floor.\n",
    "\n",
    "- **Normal (Gaussian)**\n",
    "    - A probability distribution that is symmetric about the mean, showing that the mean are more frequent in occurrence than data far from the mean.\n",
    "    - e.g. individual height in a population\n",
    "    \n",
    "- **Exponential**\n",
    "    - Uses to model the time elapsed between events.\n",
    "    - e.g. amount of time a postal clerk spends with a customer"
   ]
  },
  {
   "cell_type": "markdown",
   "metadata": {},
   "source": [
    "## Probability Distribution Functions\n",
    "\n",
    "### Probability Mass Functions (PMF) / Probability Density Functions (PDF) & Cumulative Density Functions (CDF)\n",
    "\n",
    "(I know, \"Probability Distribution Functions\" and \"Probability Density Functions\" have the same acronym. PDF normally stands for the latter - the former is a more catch-all term for all three of these)"
   ]
  },
  {
   "cell_type": "markdown",
   "metadata": {},
   "source": [
    "![example graphs of a continuous cdf with corresponding pdf and discrete cdf with corresponding pmf](images/cdf.png)\n"
   ]
  },
  {
   "cell_type": "markdown",
   "metadata": {},
   "source": [
    "### Probability Mass Function\n",
    "\n",
    "The **probability mass function (PMF)** for a *discrete random variable* gives, at any value $k$, the probability that the random variable takes the value $k$. \n",
    "\n",
    "### Probability Density Function\n",
    "\n",
    "**Probability density functions (PDF)** are similar to PMFs, in that they describe the probability of a result within a range of values. But where PMFs are appropriate for discrete variables and so can be descibed with barplots, PDFs are smooth curves that describe *continuous random variables*.  \n",
    "\n",
    "We can think of a PDF as a bunch of bars of probabilities getting smaller and smaller until each neighbor is indistinguishable from its neighbor.\n",
    "\n",
    "It is then intuitive that you cannot calculate expected value and variance in the same way as we did with PMFs.  Instead, we have to integrate over the entirety of the curve to calculate the expected value."
   ]
  },
  {
   "cell_type": "markdown",
   "metadata": {},
   "source": [
    "![](images/pdf_inter.png)"
   ]
  },
  {
   "cell_type": "markdown",
   "metadata": {},
   "source": [
    "# Distributions with Scipy Stats"
   ]
  },
  {
   "cell_type": "markdown",
   "metadata": {},
   "source": [
    "Documentation: https://docs.scipy.org/doc/scipy/reference/stats.html"
   ]
  },
  {
   "cell_type": "markdown",
   "metadata": {},
   "source": [
    "## First Up: Get to know the stats module with Discrete Distributions!"
   ]
  },
  {
   "cell_type": "markdown",
   "metadata": {},
   "source": [
    "### Bernoulli Distribution \n",
    "\n",
    "The **Bernoulli** distribution shows the outcome of a single trial where there are only 2 possible options.\n",
    "\n",
    "The easiest example is a single coin flip of a fair coin."
   ]
  },
  {
   "cell_type": "code",
   "execution_count": 37,
   "metadata": {},
   "outputs": [],
   "source": [
    "# Define our likelihood of 'success' - aka Heads\n",
    "p_success = 0.5\n",
    "\n",
    "# Now - lets use the stats library to get the probabilities\n",
    "# Use the documentation to get at the PMF for the Bernoulli distribution\n",
    "p_tails = stats.bernoulli.pmf(0,p_success) # Probability of 'failure' (0)\n",
    "\n",
    "p_heads = stats.bernoulli.pmf(1,p_success) # Probability of 'success' (1)"
   ]
  },
  {
   "cell_type": "code",
   "execution_count": 38,
   "metadata": {},
   "outputs": [
    {
     "name": "stdout",
     "output_type": "stream",
     "text": [
      "{'Tails': 0.5, 'Heads': 0.5}\n"
     ]
    }
   ],
   "source": [
    "# Create a dict for visualization:\n",
    "coin_flip = {\n",
    "    'Tails' : p_tails,\n",
    "    'Heads' : p_heads\n",
    "}\n",
    "\n",
    "print(coin_flip)"
   ]
  },
  {
   "cell_type": "code",
   "execution_count": 39,
   "metadata": {},
   "outputs": [
    {
     "data": {
      "image/png": "[encoded data removed]",
      "text/plain": [
       "<Figure size 576x432 with 1 Axes>"
      ]
     },
     "metadata": {
      "needs_background": "light"
     },
     "output_type": "display_data"
    }
   ],
   "source": [
    "# visualize it\n",
    "plt.figure(figsize=(8,6))\n",
    "\n",
    "plt.bar(coin_flip.keys(), height=coin_flip.values())\n",
    "\n",
    "plt.ylabel('Probability')\n",
    "plt.xlabel('Result of Coin Flip')\n",
    "plt.ylim(0, 1)\n",
    "plt.show()"
   ]
  },
  {
   "cell_type": "markdown",
   "metadata": {},
   "source": [
    "A note - Bernoulli distributions do not need to showcase a fair and balanced trial, as is the case above. Let's look really quickly at a game where the chance of winning is only 10%:"
   ]
  },
  {
   "cell_type": "code",
   "execution_count": 40,
   "metadata": {},
   "outputs": [
    {
     "data": {
      "text/plain": [
       "0.5"
      ]
     },
     "execution_count": 40,
     "metadata": {},
     "output_type": "execute_result"
    }
   ],
   "source": [
    "stats.bernoulli.pmf(0,p_success)"
   ]
  },
  {
   "cell_type": "code",
   "execution_count": 41,
   "metadata": {},
   "outputs": [
    {
     "data": {
      "text/plain": [
       "0.5"
      ]
     },
     "execution_count": 41,
     "metadata": {},
     "output_type": "execute_result"
    }
   ],
   "source": [
    "stats.bernoulli(p_success).pmf(0)"
   ]
  },
  {
   "cell_type": "code",
   "execution_count": 42,
   "metadata": {
    "scrolled": true
   },
   "outputs": [
    {
     "name": "stdout",
     "output_type": "stream",
     "text": [
      "{'Lose': 0.9, 'Win': 0.10000000000000002}\n"
     ]
    }
   ],
   "source": [
    "p_success = 0.1\n",
    "\n",
    "# Let's 'freeze' this distribution\n",
    "rv = stats.bernoulli(p_success)\n",
    "\n",
    "# Create a dict for visualization:\n",
    "unfair_game = {\n",
    "    'Lose' : rv.pmf(0), # Probability of 'failure' (0)\n",
    "    'Win' : rv.pmf(1)   # Probability of 'success' (1)\n",
    "}\n",
    "\n",
    "print(unfair_game)\n",
    "# Note the python rounding - not an issue"
   ]
  },
  {
   "cell_type": "code",
   "execution_count": 43,
   "metadata": {},
   "outputs": [
    {
     "data": {
      "image/png": "[encoded data removed]",
      "text/plain": [
       "<Figure size 576x432 with 1 Axes>"
      ]
     },
     "metadata": {
      "needs_background": "light"
     },
     "output_type": "display_data"
    }
   ],
   "source": [
    "# visualize it\n",
    "plt.figure(figsize=(8,6))\n",
    "\n",
    "plt.bar(unfair_game.keys(), height=unfair_game.values())\n",
    "\n",
    "plt.ylabel('Probability')\n",
    "plt.xlabel('Result of Game')\n",
    "plt.show()"
   ]
  },
  {
   "cell_type": "code",
   "execution_count": 44,
   "metadata": {
    "scrolled": false
   },
   "outputs": [
    {
     "data": {
      "image/png": "[encoded data removed]",
      "text/plain": [
       "<Figure size 576x432 with 1 Axes>"
      ]
     },
     "metadata": {
      "needs_background": "light"
     },
     "output_type": "display_data"
    }
   ],
   "source": [
    "# visualize it\n",
    "plt.figure(figsize=(8,6))\n",
    "\n",
    "plt.bar(unfair_game.keys(), \n",
    "        height=[rv.cdf(0), rv.cdf(1)], \n",
    "        label='Cumulative Probability')\n",
    "\n",
    "plt.bar(unfair_game.keys(), \n",
    "        height=unfair_game.values(),\n",
    "        label='Unbalanced Bernoulli Discrete Probability')\n",
    "\n",
    "plt.ylabel('Probability')\n",
    "plt.xlabel('Result of Unfair Game')\n",
    "plt.legend(bbox_to_anchor=(1, 1))\n",
    "plt.show()"
   ]
  },
  {
   "cell_type": "markdown",
   "metadata": {},
   "source": [
    "Another note - a **Bernoulli** distribution is not the same as a **Binomial** distribution.\n",
    "\n",
    "- Bernoulli shows the probable results of a single trial with only 2 outcomes\n",
    "- Binomial shows the probable summed results of MANY trials with only 2 outcomes"
   ]
  },
  {
   "cell_type": "markdown",
   "metadata": {},
   "source": [
    "### Uniform\n",
    "\n",
    "The **Uniform** distribution applies when all possible values of the variable are _equally probable_. \n",
    "\n",
    "If I'm rolling a fair die, then the six possible outcomes are all equally probable. That is, the chance that I roll a 1 is 1 in 6, as is the chance that I roll a 2 etc."
   ]
  },
  {
   "cell_type": "code",
   "execution_count": 45,
   "metadata": {},
   "outputs": [
    {
     "data": {
      "text/plain": [
       "{1: 0.16666666666666666,\n",
       " 2: 0.16666666666666666,\n",
       " 3: 0.16666666666666666,\n",
       " 4: 0.16666666666666666,\n",
       " 5: 0.16666666666666666,\n",
       " 6: 0.16666666666666666}"
      ]
     },
     "execution_count": 45,
     "metadata": {},
     "output_type": "execute_result"
    }
   ],
   "source": [
    "low = 1\n",
    "high = 6\n",
    "\n",
    "possible_rolls = {}\n",
    "# Scipy stats' randint is a discrete uniform distribution \n",
    "# Note that the documentation tells us that 'high' as an argument is the max + 1\n",
    "for roll in range(low, high+1):\n",
    "    possible_rolls[roll] = stats.randint.pmf(k=roll, low=low, high=high+1)\n",
    "    \n",
    "possible_rolls"
   ]
  },
  {
   "cell_type": "code",
   "execution_count": 46,
   "metadata": {},
   "outputs": [
    {
     "data": {
      "image/png": "[encoded data removed]",
      "text/plain": [
       "<Figure size 432x288 with 1 Axes>"
      ]
     },
     "metadata": {
      "needs_background": "light"
     },
     "output_type": "display_data"
    }
   ],
   "source": [
    "# visualize it\n",
    "plt.bar(possible_rolls.keys(), height=possible_rolls.values())\n",
    "\n",
    "plt.ylabel('Probability')\n",
    "plt.xlabel('Result of Die Roll')\n",
    "plt.ylim(0, 1)\n",
    "plt.show()"
   ]
  },
  {
   "cell_type": "code",
   "execution_count": null,
   "metadata": {},
   "outputs": [],
   "source": [
    "stats.randint.pmf(k=roll, low=low, high=high+1)"
   ]
  },
  {
   "cell_type": "code",
   "execution_count": 50,
   "metadata": {},
   "outputs": [
    {
     "data": {
      "text/plain": [
       "{1: 0.16666666666666666,\n",
       " 2: 0.3333333333333333,\n",
       " 3: 0.5,\n",
       " 4: 0.6666666666666666,\n",
       " 5: 0.8333333333333334,\n",
       " 6: 1.0}"
      ]
     },
     "execution_count": 50,
     "metadata": {},
     "output_type": "execute_result"
    }
   ],
   "source": [
    "# 'freeze' the distribution to explore further\n",
    "rv = stats.randint(low=low, high=high+1)\n",
    "\n",
    "# using dictionary comprehension (!!) to get the CDF\n",
    "cdf_roll = {roll: rv.cdf(roll) for roll in range(low,high+1)}\n",
    "cdf_roll"
   ]
  },
  {
   "cell_type": "code",
   "execution_count": 51,
   "metadata": {},
   "outputs": [
    {
     "data": {
      "image/png": "[encoded data removed]",
      "text/plain": [
       "<Figure size 576x432 with 1 Axes>"
      ]
     },
     "metadata": {
      "needs_background": "light"
     },
     "output_type": "display_data"
    }
   ],
   "source": [
    "# visualize it\n",
    "plt.figure(figsize=(8,6))\n",
    "plt.bar(cdf_roll.keys(), height=cdf_roll.values(), \n",
    "        label='Cumulative Probability')\n",
    "\n",
    "plt.bar(possible_rolls.keys(), height=possible_rolls.values(), \n",
    "        label='Uniform Discrete Probability')\n",
    "\n",
    "plt.ylabel('Probability')\n",
    "plt.xlabel('Result of Die Roll')\n",
    "plt.legend()\n",
    "plt.show()"
   ]
  },
  {
   "cell_type": "markdown",
   "metadata": {},
   "source": [
    "## Next Up: Continuous Distributions!"
   ]
  },
  {
   "cell_type": "markdown",
   "metadata": {},
   "source": [
    "### Normal Distribution\n",
    "\n",
    "Suppose I want to simulate the behavior of a certain frog, whose species has an average weight of 15 oz. with a standard deviation of 2.5 oz.:"
   ]
  },
  {
   "cell_type": "markdown",
   "metadata": {
    "hidden": true
   },
   "source": [
    "The **mean** of our probability density function (PDF) affects where it is centered on the x-axis. This is the `loc` parameter in the `stats` module."
   ]
  },
  {
   "cell_type": "markdown",
   "metadata": {
    "hidden": true
   },
   "source": [
    "The **variance** of our plots describes how closely the points are gathered around the mean. Low variance means tight and skinny, high variance short and wide. This is the `scale` parameter in the `stats` module - but note that the `scale` parameter for the `stats.norm` distribution specifically means the standard deviation (aka the square root of variance)"
   ]
  },
  {
   "cell_type": "code",
   "execution_count": 52,
   "metadata": {
    "ExecuteTime": {
     "end_time": "2021-10-08T21:00:03.214886Z",
     "start_time": "2021-10-08T21:00:03.211033Z"
    }
   },
   "outputs": [
    {
     "name": "stdout",
     "output_type": "stream",
     "text": [
      "Continuous Random Variable: \n",
      " [12.46386504 18.42457387 16.04740339 14.38030869 12.53594179 17.54041583\n",
      " 14.52445618 13.14063541 16.36522035 15.07294362 13.66184362  9.39640007\n",
      " 16.38043526 11.78950788 13.87554505 12.51378343 16.98839795 13.17745798\n",
      " 16.20013749 11.50426346 13.93327888 13.11526329 17.70112063 14.54444317\n",
      " 13.46961147 19.10492432 18.35482038 16.2109392  15.2054199  14.5452278\n",
      " 11.80266011 13.96659568 14.81939553 18.40521515 18.00612211 14.36060145\n",
      " 17.61291288 14.24924358 12.83746184 17.38280537 13.75206278 16.74238027\n",
      " 14.07243752 18.49057512 19.78533368 12.68830241 14.18851627 17.21215779\n",
      " 12.94529482 15.91549227 15.90302441 13.08179807 16.0268433  14.78158104\n",
      " 10.95804698 13.11106867 14.90725196 15.93333872 14.18473353 14.83506874\n",
      " 14.65503341 14.36791017 19.57184973 17.8376937  18.52256335 14.59093699\n",
      " 11.31342557 11.45167682 12.31779168 19.07273307 13.54053005 13.99903411\n",
      " 17.0353389  20.26435205 15.40732002  8.88352626 14.24792895 18.08276881\n",
      " 14.29997651 14.74658682 16.02886117 16.33084344 13.15431172 18.80715715\n",
      " 14.29544778 16.51790793 18.56413341 15.02848527 17.50926668 11.81087515\n",
      " 15.37283893 16.70011762 10.90556316 15.37471616 15.81062009 13.79945798\n",
      " 17.80800576 13.06368138 14.16927907 13.5490146 ] \n",
      "\n"
     ]
    }
   ],
   "source": [
    "# Create required parameters for the distribution\n",
    "mu = 15       # mean of the data\n",
    "sigma = 2.5   # standard deviation of the data\n",
    "\n",
    "# Create a discrete distribution with the given parameter values\n",
    "# Use rvs to create random values within this distribution\n",
    "# 'size' argument defines how many points to generate\n",
    "normal = stats.norm.rvs(loc=mu, scale=sigma, size=100) \n",
    "\n",
    "print(f'Continuous Random Variable: \\n {normal} \\n')"
   ]
  },
  {
   "cell_type": "code",
   "execution_count": 53,
   "metadata": {},
   "outputs": [
    {
     "data": {
      "image/png": "[encoded data removed]",
      "text/plain": [
       "<Figure size 432x288 with 1 Axes>"
      ]
     },
     "metadata": {
      "needs_background": "light"
     },
     "output_type": "display_data"
    }
   ],
   "source": [
    "# Plot our frog distribution\n",
    "fig, ax = plt.subplots()\n",
    "\n",
    "# Need to sort our generated points to plot them effectively\n",
    "ax.plot(sorted(normal), stats.norm(mu, sigma).pdf(sorted(normal)))\n",
    "\n",
    "ax.set_ylabel(\"Frequency\")\n",
    "ax.set_xlabel(\"Frog Weights (oz)\")\n",
    "ax.set_title(f\"Normal Distribution Centered on {mu}\\nWith a Standard Deviation of {sigma}\");"
   ]
  },
  {
   "cell_type": "markdown",
   "metadata": {
    "heading_collapsed": true,
    "hidden": true
   },
   "source": [
    "## Some Things to Be Aware Of"
   ]
  },
  {
   "cell_type": "markdown",
   "metadata": {
    "hidden": true
   },
   "source": [
    "- For continuous random variables, **obtaining probabilities for observing a specific outcome is not possible**, you can only obtain probabilities for ranges (not exact points)\n",
    "- Be careful with interpretation of PDF\n",
    "\n",
    "We can use the CDF to learn the probability that a variable will be less than or equal to a given value.\n",
    "\n",
    "Typically, you'll see something like this equation associated with the CDF:\n",
    "\n",
    "$$F(x) = P(X\\leq x)$$"
   ]
  },
  {
   "cell_type": "markdown",
   "metadata": {},
   "source": [
    "###  Code with Python:\n",
    "\n",
    "Let's use the ```scipy.stats``` module to calculate the cumulative density for both discrete and continuous distributions.\n",
    "\n",
    "For discrete distributions, let's try to calculate the probability of the **binomial** distribution for the number of successes equal or less than 8 successes out of 20 trials (assuming the trials are fairly balanced, so equally as likely to get a success as a failure).\n",
    "\n",
    "$$P(x \\leq 8)$$"
   ]
  },
  {
   "cell_type": "code",
   "execution_count": 54,
   "metadata": {},
   "outputs": [],
   "source": [
    "# Define the probability of success\n",
    "p_success = 0.5\n",
    "\n",
    "# Define the number of trials\n",
    "n_trials = 20"
   ]
  },
  {
   "cell_type": "code",
   "execution_count": 55,
   "metadata": {
    "ExecuteTime": {
     "end_time": "2021-10-08T21:00:07.840276Z",
     "start_time": "2021-10-08T21:00:07.836086Z"
    }
   },
   "outputs": [
    {
     "data": {
      "text/plain": [
       "0.25172233581542974"
      ]
     },
     "execution_count": 55,
     "metadata": {},
     "output_type": "execute_result"
    }
   ],
   "source": [
    "# Define the number of successes we're looking for (at least)\n",
    "k = 8\n",
    "\n",
    "# Calculate the probability for x equal or less than 8 (k)\n",
    "stats.binom.cdf(k, n_trials, p_success)"
   ]
  },
  {
   "cell_type": "code",
   "execution_count": 56,
   "metadata": {},
   "outputs": [
    {
     "data": {
      "image/png": "[encoded data removed]",
      "text/plain": [
       "<Figure size 576x432 with 1 Axes>"
      ]
     },
     "metadata": {
      "needs_background": "light"
     },
     "output_type": "display_data"
    }
   ],
   "source": [
    "# Visualizing this!\n",
    "rv = stats.binom(n=n_trials, p=p_success)\n",
    "\n",
    "nums = range(0, 21)\n",
    "\n",
    "plt.figure(figsize=(8, 6))\n",
    "plt.bar(nums, rv.pmf(nums),\n",
    "        color=['green' if n <= 8 else 'blue' for n in nums])\n",
    "\n",
    "plt.plot(nums, rv.cdf(nums), color='orange',\n",
    "         label='Binomial Cumulative Distribution')\n",
    "\n",
    "plt.vlines(x=k, ymin=0, ymax=rv.cdf(8), color='red',\n",
    "           label='K=8')\n",
    "plt.hlines(y=rv.cdf(k), xmin=0, xmax=k, color='red')\n",
    "\n",
    "plt.xlabel('Number of Successes')\n",
    "plt.xticks(ticks=nums)\n",
    "plt.legend()\n",
    "plt.show()"
   ]
  },
  {
   "cell_type": "markdown",
   "metadata": {},
   "source": [
    "For continuous distributions, we can calculate the probability along the **normal** distribution for a random value of x equal or less than 18, when the mean is 15 and the standard deviation is 2.5\n",
    "\n",
    "$$P(x \\leq 18)$$"
   ]
  },
  {
   "cell_type": "code",
   "execution_count": null,
   "metadata": {},
   "outputs": [],
   "source": [
    "# Need our mean and standard deviation - same as our frog example\n",
    "mu = 15\n",
    "sigma = 2.5"
   ]
  },
  {
   "cell_type": "code",
   "execution_count": 59,
   "metadata": {
    "ExecuteTime": {
     "end_time": "2021-10-08T21:00:08.157104Z",
     "start_time": "2021-10-08T21:00:08.152825Z"
    }
   },
   "outputs": [
    {
     "data": {
      "text/plain": [
       "0.8849303297782918"
      ]
     },
     "execution_count": 59,
     "metadata": {},
     "output_type": "execute_result"
    }
   ],
   "source": [
    "# Create the random x value for calculation\n",
    "x = 18\n",
    "\n",
    "# Calculate the probability for x equal or less than 18\n",
    "stats.norm.cdf(x, mu, sigma)"
   ]
  },
  {
   "cell_type": "code",
   "execution_count": 60,
   "metadata": {},
   "outputs": [
    {
     "data": {
      "text/plain": [
       "0.8849303297782918"
      ]
     },
     "execution_count": 60,
     "metadata": {},
     "output_type": "execute_result"
    }
   ],
   "source": [
    "stats.norm(loc=mu, scale=sigma).cdf(x)"
   ]
  },
  {
   "cell_type": "code",
   "execution_count": 61,
   "metadata": {},
   "outputs": [
    {
     "data": {
      "image/png": "[encoded data removed]",
      "text/plain": [
       "<Figure size 576x432 with 1 Axes>"
      ]
     },
     "metadata": {
      "needs_background": "light"
     },
     "output_type": "display_data"
    }
   ],
   "source": [
    "# Visualizing this!\n",
    "rv = stats.norm(loc=mu, scale=sigma)\n",
    "# Don't worry about this numpy bit, it's to help visualize\n",
    "z_curve = np.linspace(rv.ppf(0.01), rv.ppf(0.99), 100)\n",
    "    \n",
    "plt.figure(figsize=(8,6))\n",
    "\n",
    "plt.plot(z_curve, rv.pdf(z_curve))\n",
    "plt.plot(z_curve, rv.cdf(z_curve), label='Normal Cumulative Distribution')\n",
    "\n",
    "plt.fill_between(z_curve, rv.pdf(z_curve), where=z_curve < 18, color='green')\n",
    "\n",
    "\n",
    "plt.vlines(x=x, ymin=0, ymax=rv.cdf(x), color='red', \n",
    "           label='x=18')\n",
    "plt.hlines(y=rv.cdf(x), xmin=z_curve[0], xmax=x, color='red')\n",
    "\n",
    "plt.legend();"
   ]
  },
  {
   "cell_type": "markdown",
   "metadata": {},
   "source": [
    "Note: the ```cdf``` function by default return the probability of the left hand tail of the distribution. If you are interested to calculate the right hand tail probability, you can simply subtract the probability of the left tail from 1.\n",
    "\n",
    "$$P(x>18) = 1 - P(x \\leq 18)$$\n"
   ]
  },
  {
   "cell_type": "markdown",
   "metadata": {
    "heading_collapsed": true,
    "hidden": true
   },
   "source": [
    "## Example: Using CDF & comparison to PDF"
   ]
  },
  {
   "cell_type": "markdown",
   "metadata": {
    "hidden": true
   },
   "source": [
    "Consider the following normal distributions of heights.\n",
    "\n",
    "The PDF and the CDF look like:\n"
   ]
  },
  {
   "cell_type": "code",
   "execution_count": 62,
   "metadata": {
    "ExecuteTime": {
     "end_time": "2021-10-08T21:00:09.746527Z",
     "start_time": "2021-10-08T21:00:08.932952Z"
    },
    "hidden": true
   },
   "outputs": [
    {
     "data": {
      "text/plain": [
       "Text(0.5, 1.0, 'CDF of Height')"
      ]
     },
     "execution_count": 62,
     "metadata": {},
     "output_type": "execute_result"
    },
    {
     "data": {
      "image/png": "[encoded data removed]",
      "text/plain": [
       "<Figure size 720x360 with 2 Axes>"
      ]
     },
     "metadata": {
      "needs_background": "light"
     },
     "output_type": "display_data"
    }
   ],
   "source": [
    "# Create a fake dataset with mean = 67, sigma = 4, and N = 1000\n",
    "r = sorted(stats.norm.rvs(loc=67, scale=4, size=1000))\n",
    "\n",
    "# Calculate the CDF using stats.norm.cdf()\n",
    "r_cdf = stats.norm.cdf(r, loc=67, scale=4)\n",
    "\n",
    "# Plot the PDF and CDF side-by-side\n",
    "fig, (ax1, ax2) = plt.subplots(1, 2, figsize=(10, 5))\n",
    "sns.kdeplot(r, ax=ax1, shade=True)\n",
    "ax1.set_title('PDF of Height')\n",
    "\n",
    "ax2.plot(r, r_cdf, color='g')\n",
    "ax2.set_title('CDF of Height')"
   ]
  },
  {
   "cell_type": "markdown",
   "metadata": {
    "hidden": true
   },
   "source": [
    "If we provide `numpy` with the underlying parameters of our distribution, we can calculate:"
   ]
  },
  {
   "cell_type": "code",
   "execution_count": 63,
   "metadata": {
    "ExecuteTime": {
     "end_time": "2021-10-08T21:00:09.751397Z",
     "start_time": "2021-10-08T21:00:09.748388Z"
    },
    "hidden": true
   },
   "outputs": [
    {
     "name": "stdout",
     "output_type": "stream",
     "text": [
      "The probability density at 73 is 0.9331927987311419\n"
     ]
    }
   ],
   "source": [
    "# the probability that a value falls below a specified value\n",
    "r = stats.norm(67, 4)\n",
    "print(f'The probability density at 73 is {r.cdf(73)}')"
   ]
  },
  {
   "cell_type": "code",
   "execution_count": 64,
   "metadata": {
    "ExecuteTime": {
     "end_time": "2021-10-08T21:00:09.756558Z",
     "start_time": "2021-10-08T21:00:09.753422Z"
    },
    "hidden": true
   },
   "outputs": [
    {
     "name": "stdout",
     "output_type": "stream",
     "text": [
      "Probability between the range 67 to 75 is 0.4772498680518208\n"
     ]
    }
   ],
   "source": [
    "# the probability that a value falls between two specified values\n",
    "r = stats.norm(67, 4)\n",
    "print(f'Probability between the range 67 to 75 is {r.cdf(75) - r.cdf(67)}')"
   ]
  },
  {
   "cell_type": "markdown",
   "metadata": {
    "hidden": true
   },
   "source": [
    "We can also calculate the value associated with a specfic percentile:"
   ]
  },
  {
   "cell_type": "code",
   "execution_count": 65,
   "metadata": {
    "ExecuteTime": {
     "end_time": "2021-10-08T21:00:09.760204Z",
     "start_time": "2021-10-08T21:00:09.758011Z"
    },
    "hidden": true
   },
   "outputs": [
    {
     "name": "stdout",
     "output_type": "stream",
     "text": [
      "The 95th percentile: 73.5794145078059\n"
     ]
    }
   ],
   "source": [
    "# the 95th percentile\n",
    "print(f'The 95th percentile: {r.ppf(0.95)}')"
   ]
  },
  {
   "cell_type": "markdown",
   "metadata": {},
   "source": [
    "## How to Describe Distributions: Center, Spread and Shape\n",
    "\n",
    "The **center** refers loosely to the middle-values of a distribution, and is measured more precisely by notions like the mean, the median, and the mode.\n",
    "\n",
    "The **spread** refers loosely to how far away the more extreme values are from the center, and is measured by some value showing variation - more precisely by the standard deviation, which is effectively a measure of the average distance away from the mean.\n",
    "\n",
    "![different spread representations](images/examplesOfSpread.jpg)\n",
    "\n",
    "The **shape** refers loosely how the data shows up when visualized, more specifically capturing details like symmetry or skew, as well as the number of peaks in the distribution.\n",
    "\n",
    "![different distribution shapes](images/shapesOfDistributions.jpg)\n",
    "\n",
    "Note that sometimes the center of your distribution is harder to capture precisely, if the shape is skewed:\n",
    "\n",
    "![examples of skewed distributions](images/order_of_mean_median_mode.png)\n",
    "\n",
    "[Image Source for the images in this cell](http://mathcenter.oxford.emory.edu/site/math117/shapeCenterAndSpread/)"
   ]
  },
  {
   "cell_type": "markdown",
   "metadata": {
    "heading_collapsed": true
   },
   "source": [
    "# Exercise"
   ]
  },
  {
   "cell_type": "markdown",
   "metadata": {
    "heading_collapsed": true,
    "hidden": true
   },
   "source": [
    "## Order Totals CDF & PDF"
   ]
  },
  {
   "cell_type": "markdown",
   "metadata": {
    "hidden": true
   },
   "source": [
    "Imagine that an online clothing business gets orders with totals that are normally distributed with an average of \\\\$95 and a standard deviation of \\\\$18. **Graph the PDF and CDF** for the orders for this business. "
   ]
  },
  {
   "cell_type": "code",
   "execution_count": 69,
   "metadata": {},
   "outputs": [],
   "source": [
    "mean = 95\n",
    "std = 18"
   ]
  },
  {
   "cell_type": "code",
   "execution_count": 71,
   "metadata": {
    "ExecuteTime": {
     "end_time": "2021-10-08T21:00:10.282262Z",
     "start_time": "2021-10-08T21:00:10.280216Z"
    },
    "hidden": true
   },
   "outputs": [
    {
     "data": {
      "text/plain": [
       "Text(0.5, 1.0, 'CDF of Orders')"
      ]
     },
     "execution_count": 71,
     "metadata": {},
     "output_type": "execute_result"
    },
    {
     "data": {
      "image/png": "[encoded data removed]",
      "text/plain": [
       "<Figure size 720x360 with 2 Axes>"
      ]
     },
     "metadata": {
      "needs_background": "light"
     },
     "output_type": "display_data"
    }
   ],
   "source": [
    "# Your code here\n",
    "# Create a fake dataset with mean = 67, sigma = 4, and N = 1000\n",
    "r = sorted(stats.norm.rvs(loc= mean, scale=std, size=1000))\n",
    "\n",
    "# Calculate the CDF using stats.norm.cdf()\n",
    "r_cdf = stats.norm.cdf(r, loc= mean, scale=std)\n",
    "\n",
    "# Plot the PDF and CDF side-by-side\n",
    "fig, (ax1, ax2) = plt.subplots(1, 2, figsize=(10, 5))\n",
    "sns.kdeplot(r, ax=ax1, shade=True)\n",
    "ax1.set_title('PDF of Orders')\n",
    "\n",
    "ax2.plot(r, r_cdf, color='g')\n",
    "ax2.set_title('CDF of Orders')"
   ]
  },
  {
   "cell_type": "markdown",
   "metadata": {
    "heading_collapsed": true,
    "hidden": true
   },
   "source": [
    "## Order Totals Observations"
   ]
  },
  {
   "cell_type": "markdown",
   "metadata": {
    "hidden": true
   },
   "source": [
    "After graphing, **write 1-3 observations** about the distributions of order totals based on these graphs."
   ]
  },
  {
   "cell_type": "markdown",
   "metadata": {
    "hidden": true
   },
   "source": [
    "**Your Observations**\n",
    "\n",
    "Observation 1: narrow distubution, goes from 20 to 160\n",
    "\n",
    "Observation 2: continuous, not exactly a perfect normal\n",
    "\n",
    "Observation 3:unimodel\n"
   ]
  },
  {
   "cell_type": "markdown",
   "metadata": {
    "heading_collapsed": true
   },
   "source": [
    "-----\n",
    "\n",
    "# Level Up: Details on Expected Value and Variance"
   ]
  },
  {
   "cell_type": "markdown",
   "metadata": {
    "heading_collapsed": true,
    "hidden": true
   },
   "source": [
    "## For PMF - Discrete Values"
   ]
  },
  {
   "cell_type": "markdown",
   "metadata": {
    "heading_collapsed": true,
    "hidden": true
   },
   "source": [
    "### Expected Value/Mean"
   ]
  },
  {
   "cell_type": "markdown",
   "metadata": {
    "hidden": true
   },
   "source": [
    "The expected value, or the mean, describes the 'center' of the distribution (you may hear this called the first moment).  The 'center' refers loosely to the middle-values of a distribution, and is measured more precisely by notions like the mean, the median, and the mode.\n",
    "\n",
    "For a discrete distribution, working from the vantage point of a collected sample of n data points:\n",
    "\n",
    "mean = $\\Large\\mu = \\frac{\\Sigma^n_{i = 1}x_i}{n}$\n",
    "\n",
    "If we are working from the vantage point of known probabilities, the mean is referred to as the expected value. The expected value of a discrete distribution is the weighted sum of all values of x, where the weight is their probability.\n",
    " \n",
    "The expected value of the Lotto example is:\n",
    "${\\displaystyle \\operatorname {E} [X]= \\Sigma^n_{i=1}p(x_i)x_i}$"
   ]
  },
  {
   "cell_type": "markdown",
   "metadata": {
    "heading_collapsed": true,
    "hidden": true
   },
   "source": [
    "### Variance/Standard Deviation"
   ]
  },
  {
   "cell_type": "markdown",
   "metadata": {
    "hidden": true
   },
   "source": [
    "Variance describes the spread of the data (it is also referred to as the second moment).  The 'spread' refers loosely to how far away the more extreme values are from the center.\n",
    "\n",
    "Standard deviation is the square root of variance, and effectively measures the *average distance away from the mean*.\n",
    "\n",
    "From the standpoint of a sample, the variance of a discrete distribution of n data points is:\n",
    "\n",
    "std = $\\Large\\sigma = \\sqrt{\\frac{\\Sigma^n_{i = 1}(x_i - \\mu)^2}{n}}$\n",
    "\n",
    "\n",
    "Variance is the expectation of the squared deviation of a random variable from its mean.\n"
   ]
  },
  {
   "cell_type": "markdown",
   "metadata": {
    "heading_collapsed": true
   },
   "source": [
    "# Level Up: CDF Use Cases"
   ]
  },
  {
   "cell_type": "markdown",
   "metadata": {
    "hidden": true
   },
   "source": [
    "You might look at the CDF and wonder if it's a shadow of my beloved histogram. But there are some good use cases for this way of visualizing the CDF"
   ]
  },
  {
   "cell_type": "code",
   "execution_count": null,
   "metadata": {
    "ExecuteTime": {
     "end_time": "2021-10-08T21:00:13.628294Z",
     "start_time": "2021-10-08T21:00:13.624664Z"
    },
    "hidden": true
   },
   "outputs": [],
   "source": [
    "# First let's define some data\n",
    "domain_x = np.linspace(-1,1,100)\n",
    "norm_dist = stats.norm.rvs(0,0.3,domain_x.shape)\n",
    "norm_dist.shape"
   ]
  },
  {
   "cell_type": "markdown",
   "metadata": {
    "heading_collapsed": true,
    "hidden": true
   },
   "source": [
    "## Quickly identify key values"
   ]
  },
  {
   "cell_type": "markdown",
   "metadata": {
    "hidden": true
   },
   "source": [
    "Finding features like the median, minimum, maximum, and quartiles are easy to read"
   ]
  },
  {
   "cell_type": "code",
   "execution_count": null,
   "metadata": {
    "ExecuteTime": {
     "end_time": "2021-10-08T21:00:14.331413Z",
     "start_time": "2021-10-08T21:00:14.111518Z"
    },
    "hidden": true
   },
   "outputs": [],
   "source": [
    "f,(ax_pdf,ax_cdf) = plt.subplots(nrows=1,ncols=2,figsize=(12,4))\n",
    "\n",
    "###### Histogram (PDF)\n",
    "ax_pdf = sns.histplot(x=norm_dist, ax=ax_pdf, alpha=0.4)\n",
    "# You can also see the PDF if you want\n",
    "# ax_pdf = sns.kdeplot(x=out, cumulative=False, ax=ax_pdf)\n",
    "\n",
    "# Median line\n",
    "ax_pdf.vlines(\n",
    "    x=np.median(norm_dist),\n",
    "    ymin=0,\n",
    "    ymax=20,\n",
    "    linestyles='--',\n",
    "    color='red'      \n",
    ")\n",
    "# 25th-percentile line\n",
    "ax_pdf.vlines(\n",
    "    x=np.quantile(norm_dist, 0.25),\n",
    "    ymin=0,\n",
    "    ymax=20,\n",
    "    linestyles='--',\n",
    "    color='purple'      \n",
    ")\n",
    "# 75th-percentile line\n",
    "ax_pdf.vlines(\n",
    "    x=np.quantile(norm_dist, 0.75),\n",
    "    ymin=0,\n",
    "    ymax=20,\n",
    "    linestyles='--',\n",
    "    color='purple'      \n",
    ")\n",
    "\n",
    "###### CDF \n",
    "ax_cdf = sns.kdeplot(x=norm_dist, cumulative=True, ax=ax_cdf)\n",
    "\n",
    "# Median line\n",
    "ax_cdf.hlines(\n",
    "    y=0.5,\n",
    "    xmin=-1,\n",
    "    xmax=1,\n",
    "    linestyles='--',\n",
    "    color='red'\n",
    ")\n",
    "# 25th-percentile line\n",
    "ax_cdf.hlines(\n",
    "    y=0.25,\n",
    "    xmin=-1,\n",
    "    xmax=1,\n",
    "    linestyles='--',\n",
    "    color='purple'\n",
    ")\n",
    "# 75th-percentile line\n",
    "ax_cdf.hlines(\n",
    "    y=0.75,\n",
    "    xmin=-1,\n",
    "    xmax=1,\n",
    "    linestyles='--',\n",
    "    color='purple'\n",
    ")"
   ]
  },
  {
   "cell_type": "markdown",
   "metadata": {
    "heading_collapsed": true,
    "hidden": true
   },
   "source": [
    "## Outliers can be more obvious"
   ]
  },
  {
   "cell_type": "markdown",
   "metadata": {
    "hidden": true
   },
   "source": [
    "Visualizations with outliers can be a little tricky. Take a look at your histogram. With outliers, it might be identified but can distort our focus."
   ]
  },
  {
   "cell_type": "code",
   "execution_count": null,
   "metadata": {
    "ExecuteTime": {
     "end_time": "2021-10-08T21:00:14.672833Z",
     "start_time": "2021-10-08T21:00:14.668761Z"
    },
    "hidden": true
   },
   "outputs": [],
   "source": [
    "# Add an outlier\n",
    "norm_with_outliers = np.append(norm_dist, 5*np.abs(np.random.randn(5)))\n",
    "print(f'The range of norm_dist: \\n{norm_dist.min(), norm_dist.max()}\\n')\n",
    "print(f'The range of norm_with_outliers: \\n{norm_with_outliers.min(), norm_with_outliers.max()}\\n')"
   ]
  },
  {
   "cell_type": "code",
   "execution_count": null,
   "metadata": {
    "ExecuteTime": {
     "end_time": "2021-10-08T21:00:14.989799Z",
     "start_time": "2021-10-08T21:00:14.696050Z"
    },
    "hidden": true
   },
   "outputs": [],
   "source": [
    "f,(ax0,ax1) = plt.subplots(1,2, figsize=(12,4))\n",
    "\n",
    "# Showing the outliers\n",
    "sns.histplot(x=norm_with_outliers, alpha=0.4, ax=ax0)\n",
    "\n",
    "# Ignoring outliers\n",
    "ax1=sns.histplot(x=norm_with_outliers, alpha=0.4, ax=ax1)\n",
    "ax1.set_xlim(right=1.)"
   ]
  },
  {
   "cell_type": "markdown",
   "metadata": {
    "hidden": true
   },
   "source": [
    "In a worst-case, you might not notice the outliers because it gets swallowed up due by a bin because of the number of bins or bin width parameter"
   ]
  },
  {
   "cell_type": "markdown",
   "metadata": {
    "hidden": true
   },
   "source": [
    "Now using a CDF, it can be a lot easier to identify when there is an extreme value even if we scale the $x$-axis."
   ]
  },
  {
   "cell_type": "code",
   "execution_count": null,
   "metadata": {
    "ExecuteTime": {
     "end_time": "2021-10-08T21:00:15.423689Z",
     "start_time": "2021-10-08T21:00:15.203172Z"
    },
    "hidden": true
   },
   "outputs": [],
   "source": [
    "f,(ax0,ax1) = plt.subplots(1,2, figsize=(12,4))\n",
    "\n",
    "# Showing the outliers\n",
    "ax0 = sns.kdeplot(x=norm_with_outliers, cumulative=True, ax=ax0)\n",
    "ax0.hlines(1,xmin=-1,xmax=3,color='red',linestyles='--')\n",
    "\n",
    "# Ignoring outliers\n",
    "ax1 = sns.kdeplot(x=norm_with_outliers, cumulative=True, ax=ax1)\n",
    "ax1.hlines(1,xmin=-1,xmax=1,color='red',linestyles='--')\n",
    "ax1.set_xlim(right=1.)"
   ]
  },
  {
   "cell_type": "markdown",
   "metadata": {
    "heading_collapsed": true,
    "hidden": true
   },
   "source": [
    "## Identifying clusters"
   ]
  },
  {
   "cell_type": "markdown",
   "metadata": {
    "hidden": true
   },
   "source": [
    "Typically not hard with a histogram. But you can also see it in CDFs!"
   ]
  },
  {
   "cell_type": "code",
   "execution_count": null,
   "metadata": {
    "ExecuteTime": {
     "end_time": "2021-10-08T21:00:15.718993Z",
     "start_time": "2021-10-08T21:00:15.716159Z"
    },
    "hidden": true
   },
   "outputs": [],
   "source": [
    "# Create two sets of simulated data follow normal distribution\n",
    "domain_x = np.linspace(-1, 1, 100)\n",
    "norm_dist0 = stats.norm.rvs(0,0.3, domain_x.shape)\n",
    "norm_dist1 = stats.norm.rvs(2,0.2, domain_x.shape)\n",
    "\n",
    "# Combine the two datasets into one\n",
    "two_dist = np.append(norm_dist0, norm_dist1)"
   ]
  },
  {
   "cell_type": "code",
   "execution_count": null,
   "metadata": {
    "ExecuteTime": {
     "end_time": "2021-10-08T21:00:16.443920Z",
     "start_time": "2021-10-08T21:00:15.747406Z"
    },
    "hidden": true
   },
   "outputs": [],
   "source": [
    "f,(ax0,ax1,ax2) = plt.subplots(3,2, figsize=(12,12))\n",
    "\n",
    "# Histogram\n",
    "ax=sns.histplot(x=norm_dist0, alpha=0.4, ax=ax0[0])\n",
    "ax.set_xlim(-1,3.5)\n",
    "ax=sns.histplot(x=norm_dist1, alpha=0.4, ax=ax1[0])\n",
    "ax.set_xlim(-1,3.5)\n",
    "ax=sns.histplot(x=two_dist, alpha=0.4, ax=ax2[0])\n",
    "ax.set_xlim(-1,3.5)\n",
    "\n",
    "# CDF\n",
    "ax=sns.kdeplot(x=norm_dist0, alpha=0.4, ax=ax0[1], cumulative=True)\n",
    "ax.set_xlim(-1,3.5)\n",
    "ax=sns.kdeplot(x=norm_dist1, alpha=0.4, ax=ax1[1], cumulative=True)\n",
    "ax.set_xlim(-1,3.5)\n",
    "ax=sns.kdeplot(x=two_dist, alpha=0.4, ax=ax2[1], cumulative=True)\n",
    "ax.set_xlim(-1,3.5)"
   ]
  },
  {
   "cell_type": "markdown",
   "metadata": {
    "heading_collapsed": true,
    "hidden": true
   },
   "source": [
    "## Relatively easy to view multiple distributions"
   ]
  },
  {
   "cell_type": "code",
   "execution_count": null,
   "metadata": {
    "ExecuteTime": {
     "end_time": "2021-10-08T21:00:16.448471Z",
     "start_time": "2021-10-08T21:00:16.445562Z"
    },
    "hidden": true
   },
   "outputs": [],
   "source": [
    "# Craete three datasets that follow normal distribution\n",
    "norm_dist0 = stats.norm.rvs(0,0.3,domain_x.shape)\n",
    "norm_dist1 = stats.norm.rvs(0,0.2,domain_x.shape)\n",
    "norm_dist2 = stats.norm.rvs(0.3,0.2,domain_x.shape)"
   ]
  },
  {
   "cell_type": "code",
   "execution_count": null,
   "metadata": {
    "ExecuteTime": {
     "end_time": "2021-10-08T21:00:16.806819Z",
     "start_time": "2021-10-08T21:00:16.450355Z"
    },
    "hidden": true
   },
   "outputs": [],
   "source": [
    "f,(ax0,ax1) = plt.subplots(2,1, figsize=(12,12))\n",
    "\n",
    "# Histogram\n",
    "ax=sns.histplot(x=norm_dist0, alpha=0.4, ax=ax0, color='red')\n",
    "ax=sns.histplot(x=norm_dist1, alpha=0.4, ax=ax0, color='yellow')\n",
    "ax=sns.histplot(x=norm_dist2, alpha=0.4, ax=ax0, color='blue')\n",
    "\n",
    "# CDF\n",
    "ax=sns.kdeplot(x=norm_dist0, alpha=0.4, ax=ax1, cumulative=True, color='red')\n",
    "ax=sns.kdeplot(x=norm_dist1, alpha=0.4, ax=ax1, cumulative=True, color='yellow')\n",
    "ax=sns.kdeplot(x=norm_dist2, alpha=0.4, ax=ax1, cumulative=True, color='blue')"
   ]
  },
  {
   "cell_type": "markdown",
   "metadata": {
    "heading_collapsed": true
   },
   "source": [
    "# Level Up: Skewness"
   ]
  },
  {
   "cell_type": "markdown",
   "metadata": {
    "hidden": true
   },
   "source": [
    "Probability distributions can have skew, meaning they have more mass further from the mean on one side of the distribution than another. A skew of zero is perfectly symmetrical about the mean.   \n",
    "\n",
    "![skew](images/skew.png)"
   ]
  },
  {
   "cell_type": "code",
   "execution_count": null,
   "metadata": {
    "ExecuteTime": {
     "end_time": "2021-10-08T21:00:16.812366Z",
     "start_time": "2021-10-08T21:00:16.808630Z"
    },
    "hidden": true
   },
   "outputs": [],
   "source": [
    "# We can check skewness with scipy\n",
    "z_curve = np.random.normal(0, 1, 1000)\n",
    "print(f'The skewness measure of z_curve: {stats.skew(z_curve)}')"
   ]
  },
  {
   "cell_type": "code",
   "execution_count": null,
   "metadata": {},
   "outputs": [],
   "source": [
    "# Plotting the distribution\n",
    "fig, ax = plt.subplots(1, 1)\n",
    "ax.hist(z_curve, density=True, histtype='stepfilled', alpha=0.2)\n",
    "plt.show()"
   ]
  },
  {
   "cell_type": "code",
   "execution_count": null,
   "metadata": {
    "ExecuteTime": {
     "end_time": "2021-10-08T21:00:16.818025Z",
     "start_time": "2021-10-08T21:00:16.814693Z"
    },
    "scrolled": true
   },
   "outputs": [],
   "source": [
    "# Check the skewness of a Chi Square Distribution\n",
    "chisquare = stats.chi2.rvs(df=10, size=500)\n",
    "print(f'The skewness measure of chi^2 distribution: \\n{stats.skew(chisquare)}\\n')"
   ]
  },
  {
   "cell_type": "code",
   "execution_count": null,
   "metadata": {
    "ExecuteTime": {
     "end_time": "2021-10-08T21:00:16.976720Z",
     "start_time": "2021-10-08T21:00:16.820148Z"
    }
   },
   "outputs": [],
   "source": [
    "# Plotting the Chi Square distribution\n",
    "fig, ax = plt.subplots(1, 1)\n",
    "ax.hist(chisquare, density=True, histtype='stepfilled', alpha=0.2)\n",
    "plt.show()"
   ]
  },
  {
   "cell_type": "markdown",
   "metadata": {
    "heading_collapsed": true
   },
   "source": [
    "# Level Up: Kurtosis"
   ]
  },
  {
   "cell_type": "markdown",
   "metadata": {
    "hidden": true
   },
   "source": [
    "![kurtosis](images/kurtosis.png)"
   ]
  },
  {
   "cell_type": "code",
   "execution_count": null,
   "metadata": {
    "ExecuteTime": {
     "end_time": "2021-10-08T21:00:17.382143Z",
     "start_time": "2021-10-08T21:00:17.379232Z"
    }
   },
   "outputs": [],
   "source": [
    "# Check kurtosis with scipy\n",
    "print(f'The kurtosis measure of z_curve: {stats.kurtosis(z_curve)}')"
   ]
  },
  {
   "cell_type": "code",
   "execution_count": null,
   "metadata": {
    "ExecuteTime": {
     "end_time": "2021-10-08T21:00:17.406828Z",
     "start_time": "2021-10-08T21:00:17.404056Z"
    }
   },
   "outputs": [],
   "source": [
    "# Check kurtosis for Chi Square distribution\n",
    "print(f'The kurtosis meausre of Chi^2 distribution: {stats.kurtosis(chisquare)}')"
   ]
  }
 ],
 "metadata": {
  "hide_input": false,
  "kernelspec": {
   "display_name": "Python 3",
   "language": "python",
   "name": "python3"
  },
  "language_info": {
   "codemirror_mode": {
    "name": "ipython",
    "version": 3
   },
   "file_extension": ".py",
   "mimetype": "text/x-python",
   "name": "python",
   "nbconvert_exporter": "python",
   "pygments_lexer": "ipython3",
   "version": "3.8.5"
  },
  "latex_envs": {
   "LaTeX_envs_menu_present": true,
   "autoclose": false,
   "autocomplete": true,
   "bibliofile": "biblio.bib",
   "cite_by": "apalike",
   "current_citInitial": 1,
   "eqLabelWithNumbers": true,
   "eqNumInitial": 1,
   "hotkeys": {
    "equation": "Ctrl-E",
    "itemize": "Ctrl-I"
   },
   "labels_anchors": false,
   "latex_user_defs": false,
   "report_style_numbering": false,
   "user_envs_cfg": false
  },
  "nbTranslate": {
   "displayLangs": [
    "*"
   ],
   "hotkey": "alt-t",
   "langInMainMenu": true,
   "sourceLang": "en",
   "targetLang": "fr",
   "useGoogleTranslate": true
  },
  "toc": {
   "base_numbering": 1,
   "nav_menu": {},
   "number_sections": true,
   "sideBar": true,
   "skip_h1_title": false,
   "title_cell": "Table of Contents",
   "title_sidebar": "TOC",
   "toc_cell": true,
   "toc_position": {
    "height": "calc(100% - 180px)",
    "left": "10px",
    "top": "150px",
    "width": "219px"
   },
   "toc_section_display": true,
   "toc_window_display": false
  }
 },
 "nbformat": 4,
 "nbformat_minor": 4
}
